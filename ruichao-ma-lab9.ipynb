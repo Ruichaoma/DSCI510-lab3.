{
 "cells": [
  {
   "cell_type": "markdown",
   "metadata": {
    "collapsed": true,
    "pycharm": {
     "is_executing": false,
     "name": "#%% md\n"
    }
   },
   "source": [
    "Lab 9\n",
    "---\n",
    "Hello All,\n",
    "\n",
    "I am Dhrumil Soni, the CP of the course DSCI 510. Welcome to the lab.\n",
    "\n",
    "Guidelines for the Lab:\n",
    "- You will be given the lab assignment in the start of the lab. You're supposed to complete it by the deadline stated on DEN. Should be usually on Friday Midnight.  \n",
    "\n",
    "- You've to complete the assignments individually. If you are having trouble completing the assignment do let me know, I will clear your doubts and guide you but I'll not write code for you and no one else should :) !!!  \n",
    "\n",
    "- You have to fill in the code to this notebook and upload it to your repository. And simply, submit the link to the repo (which has all the lab submissions inside it). I know the link would be same over the submissions, but it's a simple way to map you on DEN and Github. Also, the jupyter notebook file name has to be in the form '(First name)-(Last name)-lab(Lab Number)'. All characters in lowercase. For example, first lab for me would be 'dhrumil-soni-lab1'  \n",
    "\n",
    "- You are encouraged to look up resources online like python docs and stackoverflow. But, you are encouraged to look up the topics and not the questions themselves  \n",
    "\n",
    "- Your last submission will be counted towards your grade on DEN and do not edit the repository after the deadline  "
   ]
  },
  {
   "cell_type": "markdown",
   "metadata": {},
   "source": [
    "Today, we are going to write some queries in order to create and manipulate tables.  \n",
    "\n",
    "Info about sqlite python module: https://docs.python.org/3/library/sqlite3.html  "
   ]
  },
  {
   "cell_type": "markdown",
   "metadata": {},
   "source": [
    "For executing queries, this is the lifecycle that you'll follow:  \n",
    "1. import the library `sqlite3`  \n",
    "2. Create a connection to the database using `sqlite3.connect()`  \n",
    "3. Create a cursor from the connection object we just created  \n",
    "4. Execute queries to the database using the cursor object and the execute function.  \n",
    "5. Lastly, make sure to commit and close the connection. (Likely to face problems if you forget this. In the worst case, try to restart the kernel.) "
   ]
  },
  {
   "cell_type": "markdown",
   "metadata": {},
   "source": [
    "[5 points]\n",
    "---\n",
    "\n",
    "Let's first create a connection. You would have to fill the function below to connect to the database and create a cursor.  \n",
    "\n",
    "`Database name: Lab9.db`\n",
    "\n",
    "This function should return a tuple of connection and cursor, so that it could be used in further calls. \n"
   ]
  },
  {
   "cell_type": "code",
   "execution_count": 1,
   "metadata": {},
   "outputs": [],
   "source": [
    "import sqlite3\n",
    "\n",
    "def create_connection():\n",
    "    conn = sqlite3.connect('Lab9.db')\n",
    "    cur = conn.cursor()\n",
    "    return (conn,cur)\n",
    "    \n"
   ]
  },
  {
   "cell_type": "markdown",
   "metadata": {},
   "source": [
    "Now, Let's look at the ```create table``` and ```insert into``` queries.  \n",
    "\n",
    "#### Query to create a table\n",
    "Query => `CREATE TABLE <table_name> (<column_name> <type>, <column_name> <type>, <column_name> <type>,...)`  \n",
    "This creates a table with name and columns provided. Each column has a associated type to it as mentioned above.  \n",
    "\n",
    "\n",
    "#### Query to insert into the table\n",
    "Query => `INSERT INTO <table_name> values (<value>, <value>, <value>, ...)`  \n",
    "This inserts into the table with name and the values provided. "
   ]
  },
  {
   "cell_type": "markdown",
   "metadata": {},
   "source": [
    "[10 points]\n",
    "---\n",
    "\n",
    "Now, fill the function below to create a table. You can use the execute function from the cursor to call queries. No return/print  is required for this function.  \n",
    "\n",
    "Don't forget about point 5. mentioned before. \n",
    "\n",
    "#### Properties of the table:\n",
    "```\n",
    "Table name: sample_table\n",
    "Columns: (name(text), age(integer), address(text))\n",
    "First two rows:\n",
    "    ('sherlock holmes', 33, '221 B Baker street')  \n",
    "    ('harry potter', 45, 'station 9 3/4, london')  \n",
    "```\n",
    "\n",
    "Note 1: You may want to drop the table before you create it.  \n",
    "Note 2: Use the `create_connection()` that you created before. "
   ]
  },
  {
   "cell_type": "code",
   "execution_count": 12,
   "metadata": {},
   "outputs": [],
   "source": [
    "def sample_data():\n",
    "    conn,cur = create_connection()\n",
    "    cur.execute('DROP TABLE IF EXISTS sample_table')\n",
    "    cur.execute('CREATE TABLE sample_table(name TEXT, age INTEGER, address TEXT)')\n",
    "    cur.execute('insert into sample_table values (?,?,?)',('sherlock holmes',33,'221 B Baker street'))\n",
    "    cur.execute('insert into sample_table values (?,?,?)',('harry potter',45,'station 9 3/4, london'))\n",
    "    conn.commit()\n",
    "    conn.close()\n",
    "    \n",
    "\n",
    "sample_data()"
   ]
  },
  {
   "cell_type": "markdown",
   "metadata": {},
   "source": [
    "Now, let's look at some SQL query examples before we go ahead. Read the comments carefully.  \n",
    "\n",
    "If the first query doesn't work, the above function would probably be faulty. "
   ]
  },
  {
   "cell_type": "code",
   "execution_count": 13,
   "metadata": {},
   "outputs": [
    {
     "name": "stdout",
     "output_type": "stream",
     "text": [
      "[('sherlock holmes', 33, '221 B Baker street'), ('harry potter', 45, 'station 9 3/4, london')]\n",
      "[('sherlock holmes', 33, '221 B Baker street')]\n",
      "[('harry potter', 45, 'station 9 3/4, london')]\n",
      "[('221 B Baker street',)]\n",
      "[('sherlock holmes', 34, '221 B Baker street'), ('harry potter', 45, 'station 9 3/4, london')]\n"
     ]
    }
   ],
   "source": [
    "# Examples\n",
    "\n",
    "# creating connection again\n",
    "conn, cur = create_connection()\n",
    "\n",
    "# Get all the entries in the sample_table\n",
    "sample_data()\n",
    "# * here represents that all columns in the table are selected\n",
    "# Namely, name, age and address in our example\n",
    "cur.execute('SELECT * FROM sample_table')\n",
    "# This queries result are stored in inside the cursor object. \n",
    "# Try to look at dir(cur) to see how to retrieve results. \n",
    "# One simple way to do this is fetchall()\n",
    "# This would return a list of tuples where each tuple is a row of our table with tuple values that are stored in our database\n",
    "print(cur.fetchall())\n",
    "\n",
    "# Let's look at a few more queries before we take off :)\n",
    "# Get all rows where the age column's value is 33\n",
    "cur.execute('SELECT * FROM sample_table WHERE age=33')\n",
    "print(cur.fetchall())\n",
    "\n",
    "# Get all rows where the age is greater than 35 and less than 50. (You can also use BETWEEN here.) \n",
    "cur.execute('SELECT * FROM sample_table WHERE age>35 AND age<50')\n",
    "print(cur.fetchall())\n",
    "\n",
    "# Get all rows with the name sherlock holmes. Select only the address and not other columns.\n",
    "cur.execute('SELECT address FROM sample_table WHERE name=\\'sherlock holmes\\'')\n",
    "print(cur.fetchall())\n",
    "\n",
    "# You can also update the entries\n",
    "# Update sherlock's age to be 34\n",
    "cur.execute('UPDATE sample_table set age=34 where name=\\'sherlock holmes\\'')\n",
    "cur.execute('SELECT * FROM sample_table')\n",
    "print(cur.fetchall())\n",
    "\n",
    "conn.commit()\n",
    "conn.close()\n",
    "\n",
    "# Also, I suggest you all to look at this website and go through it to get yourself more familiar with SQL queries\n",
    "# https://www.w3schools.com/sql/"
   ]
  },
  {
   "cell_type": "markdown",
   "metadata": {},
   "source": [
    "In the below cell, I have provided the code to create a database for the file titanic.csv. Before moving to the next question, please inspect the table's columns and data types.\n",
    "\n",
    "Notice, how we can now use BonusLab's code to parse and create database. It is now imported from a file named Lab6code. Feel free to check it out. "
   ]
  },
  {
   "cell_type": "code",
   "execution_count": 14,
   "metadata": {},
   "outputs": [],
   "source": [
    "import Lab6code\n",
    "\n",
    "def create_titanic_dataset():\n",
    "\n",
    "    conn, cur = create_connection()\n",
    "    dataset = Lab6code.csv_dataset('titanic.csv', ',')\n",
    "    cur.execute('DROP TABLE IF EXISTS titanic_dataset')\n",
    "    cur.execute('''CREATE TABLE titanic_dataset \n",
    "                (PassengerId integer primary key, Survived integer, Pclass integer, Name text,Sex text, Age integer,Ticket text,Fare real)''')\n",
    "\n",
    "    for i in range(1, dataset.__len__()):\n",
    "        item = dataset.__get_item__(i)\n",
    "        cur.execute(\"INSERT INTO titanic_dataset VALUES (?, ?, ?, ?, ?, ?, ?, ?)\", item)\n",
    "\n",
    "    conn.commit()\n",
    "    conn.close()\n",
    "\n",
    "create_titanic_dataset()"
   ]
  },
  {
   "cell_type": "markdown",
   "metadata": {},
   "source": [
    "Q2.[15 points] \n",
    "---\n",
    "For this question, you have to write queries on the `titanic_dataset` for the following questions and print the output for them.  \n",
    "1. Get all rows of data where Pclass is 1  \n",
    "2. Get information of all females who survived  \n",
    "3. Get information of people who did not survive and were below 25 years of age. Order your output by age in ascending order  \n",
    "\n",
    "\n",
    "Bonus Q.[5 points]\n",
    "---\n",
    "4. Update all fares with value 0 to the average of the fares without 0.\n",
    "\n"
   ]
  },
  {
   "cell_type": "code",
   "execution_count": 15,
   "metadata": {},
   "outputs": [
    {
     "name": "stdout",
     "output_type": "stream",
     "text": [
      "Query 1 output\n",
      "[(2, 1, 1, 'Cumings, Mrs. John Bradley (Florence Briggs Thayer)', 'female', 38, 'PC 17599', 71.2833), (4, 1, 1, 'Futrelle, Mrs. Jacques Heath (Lily May Peel)', 'female', 35, '113803', 53.1), (7, 0, 1, 'McCarthy, Mr. Timothy J', 'male', 54, '17463', 51.8625), (12, 1, 1, 'Bonnell, Miss. Elizabeth', 'female', 58, '113783', 0.0), (24, 1, 1, 'Sloper, Mr. William Thompson', 'male', 28, '113788', 35.5), (28, 0, 1, 'Fortune, Mr. Charles Alexander', 'male', 19, '19950', 263.0), (31, 0, 1, 'Uruchurtu, Don. Manuel E', 'male', 40, 'PC 17601', 0.0), (32, 1, 1, 'Spencer, Mrs. William Augustus (Marie Eugenie)', 'female', '', 'PC 17569', 146.5208), (35, 0, 1, 'Meyer, Mr. Edgar Joseph', 'male', 28, 'PC 17604', 82.1708), (36, 0, 1, 'Holverson, Mr. Alexander Oskar', 'male', 42, '113789', 52.0), (53, 1, 1, 'Harper, Mrs. Henry Sleeper (Myna Haxtun)', 'female', 49, 'PC 17572', 76.7292), (55, 0, 1, 'Ostby, Mr. Engelhart Cornelius', 'male', 65, '113509', 61.9792), (56, 1, 1, 'Woolner, Mr. Hugh', 'male', '', '19947', 35.5), (62, 1, 1, 'Icard, Miss. Amelie', 'female', 38, '113572', 80.0), (63, 0, 1, 'Harris, Mr. Henry Birkhardt', 'male', 45, '36973', 83.475), (65, 0, 1, 'Stewart, Mr. Albert A', 'male', '', 'PC 17605', 0.0), (84, 0, 1, 'Carrau, Mr. Francisco M', 'male', 28, '113059', 47.1), (89, 1, 1, 'Fortune, Miss. Mabel Helen', 'female', 23, '19950', 263.0), (93, 0, 1, 'Chaffee, Mr. Herbert Fuller', 'male', 46, 'W.E.P. 5734', 61.175), (97, 0, 1, 'Goldschmidt, Mr. George B', 'male', 71, 'PC 17754', 34.6542), (98, 1, 1, 'Greenfield, Mr. William Bertram', 'male', 23, 'PC 17759', 63.3583), (103, 0, 1, 'White, Mr. Richard Frasar', 'male', 21, '35281', 77.2875), (111, 0, 1, 'Porter, Mr. Walter Chamberlain', 'male', 47, '110465', 52.0), (119, 0, 1, 'Baxter, Mr. Quigg Edmond', 'male', 24, 'PC 17558', 247.5208), (125, 0, 1, 'White, Mr. Percival Wayland', 'male', 54, '35281', 77.2875), (137, 1, 1, 'Newsom, Miss. Helen Monypeny', 'female', 19, '11752', 0.0), (138, 0, 1, 'Futrelle, Mr. Jacques Heath', 'male', 37, '113803', 53.1), (140, 0, 1, 'Giglio, Mr. Victor', 'male', 24, 'PC 17593', 79.2), (152, 1, 1, 'Pears, Mrs. Thomas (Edith Wearne)', 'female', 22, '113776', 66.6), (156, 0, 1, 'Williams, Mr. Charles Duane', 'male', 51, 'PC 17597', 61.3792), (167, 1, 1, 'Chibnall, Mrs. (Edith Martha Bowerman)', 'female', '', '113505', 55.0), (169, 0, 1, 'Baumann, Mr. John D', 'male', '', 'PC 17318', 0.0), (171, 0, 1, 'Van der hoef, Mr. Wyckoff', 'male', 61, '111240', 33.5), (175, 0, 1, 'Smith, Mr. James Clinch', 'male', 56, '17764', 30.6958), (178, 0, 1, 'Isham, Miss. Ann Elizabeth', 'female', 50, 'PC 17595', 0.0), (186, 0, 1, 'Rood, Mr. Hugh Roscoe', 'male', '', '113767', 50.0), (188, 1, 1, 'Romaine, Mr. Charles Hallace (\"Mr C Rolmane\")', 'male', 45, '111428', 0.0), (195, 1, 1, 'Brown, Mrs. James Joseph (Margaret Tobin)', 'female', 44, 'PC 17610', 0.0), (196, 1, 1, 'Lurette, Miss. Elise', 'female', 58, 'PC 17569', 146.5208), (210, 1, 1, 'Blank, Mr. Henry', 'male', 40, '112277', 31.0), (216, 1, 1, 'Newell, Miss. Madeleine', 'female', 31, '35273', 113.275), (219, 1, 1, 'Bazzani, Miss. Albina', 'female', 32, '11813', 76.2917), (225, 1, 1, 'Hoyt, Mr. Frederick Maxfield', 'male', 38, '19943', 90.0), (231, 1, 1, 'Harris, Mrs. Henry Birkhardt (Irene Wallach)', 'female', 35, '36973', 83.475), (246, 0, 1, 'Minahan, Dr. William Edward', 'male', 44, '19928', 90.0), (249, 1, 1, 'Beckwith, Mr. Richard Leonard', 'male', 37, '11751', 52.5542), (253, 0, 1, 'Stead, Mr. William Thomas', 'male', 62, '113514', 0.0), (257, 1, 1, 'Thorne, Mrs. Gertrude Maybelle', 'female', '', 'PC 17585', 79.2), (258, 1, 1, 'Cherry, Miss. Gladys', 'female', 30, '110152', 86.5), (259, 1, 1, 'Ward, Miss. Anna', 'female', 35, 'PC 17755', 512.3292), (263, 0, 1, 'Taussig, Mr. Emil', 'male', 52, '110413', 79.65), (264, 0, 1, 'Harrison, Mr. William', 'male', 40, '112059', 0.0), (269, 1, 1, 'Graham, Mrs. William Thompson (Edith Junkins)', 'female', 58, 'PC 17582', 153.4625), (270, 1, 1, 'Bissette, Miss. Amelia', 'female', 35, 'PC 17760', 135.6333), (271, 0, 1, 'Cairns, Mr. Alexander', 'male', '', '113798', 31.0), (274, 0, 1, 'Natsch, Mr. Charles H', 'male', 37, 'PC 17596', 0.0), (276, 1, 1, 'Andrews, Miss. Kornelia Theodosia', 'female', 63, '13502', 77.9583), (285, 0, 1, 'Smith, Mr. Richard William', 'male', '', '113056', 0.0), (291, 1, 1, 'Barber, Miss. Ellen \"Nellie\"', 'female', 26, '19877', 78.85), (292, 1, 1, 'Bishop, Mrs. Dickinson H (Helen Walton)', 'female', 19, '11967', 91.0792), (296, 0, 1, 'Lewy, Mr. Ervin G', 'male', '', 'PC 17612', 0.0), (298, 0, 1, 'Allison, Miss. Helen Loraine', 'female', 2, '113781', 151.55), (299, 1, 1, 'Saalfeld, Mr. Adolphe', 'male', '', '19988', 30.5), (300, 1, 1, 'Baxter, Mrs. James (Helene DeLaudeniere Chaput)', 'female', 50, 'PC 17558', 247.5208), (306, 1, 1, 'Allison, Master. Hudson Trevor', 'male', 0.92, '113781', 151.55), (307, 1, 1, 'Fleming, Miss. Margaret', 'female', '', '17421', 110.8833), (308, 1, 1, 'Penasco y Castellana, Mrs. Victor de Satode (Maria Josefa Perez de Soto y Vallejo)', 'female', 17, 'PC 17758', 108.9), (310, 1, 1, 'Francatelli, Miss. Laura Mabel', 'female', 30, 'PC 17485', 56.9292), (311, 1, 1, 'Hays, Miss. Margaret Bechstein', 'female', 24, '11767', 83.1583), (312, 1, 1, 'Ryerson, Miss. Emily Borie', 'female', 18, 'PC 17608', 262.375), (319, 1, 1, 'Wick, Miss. Mary Natalie', 'female', 31, '36928', 164.8667), (320, 1, 1, 'Spedden, Mrs. Frederic Oakley (Margaretta Corning Stone)', 'female', 40, '16966', 134.5), (326, 1, 1, 'Young, Miss. Marie Grice', 'female', 36, 'PC 17760', 135.6333), (330, 1, 1, 'Hippach, Miss. Jean Gertrude', 'female', 16, '111361', 57.9792), (332, 0, 1, 'Partner, Mr. Austen', 'male', 45.5, '113043', 0.0), (333, 0, 1, 'Graham, Mr. George Edward', 'male', 38, 'PC 17582', 153.4625), (335, 1, 1, 'Frauenthal, Mrs. Henry William (Clara Heinsheimer)', 'female', '', 'PC 17611', 133.65), (337, 0, 1, 'Pears, Mr. Thomas Clinton', 'male', 29, '113776', 66.6), (338, 1, 1, 'Burns, Miss. Elizabeth Margaret', 'female', 41, '16966', 134.5), (340, 0, 1, 'Blackwell, Mr. Stephen Weart', 'male', 45, '113784', 35.5), (342, 1, 1, 'Fortune, Miss. Alice Elizabeth', 'female', 24, '19950', 263.0), (352, 0, 1, 'Williams-Lambert, Mr. Fletcher Fellows', 'male', '', '113510', 35.0), (357, 1, 1, 'Bowerman, Miss. Elsie Edith', 'female', 22, '113505', 55.0), (367, 1, 1, 'Warren, Mrs. Frank Manley (Anna Sophia Atkinson)', 'female', 60, '110813', 75.25), (370, 1, 1, 'Aubart, Mme. Leontine Pauline', 'female', 24, 'PC 17477', 69.3), (371, 1, 1, 'Harder, Mr. George Achilles', 'male', 25, '11765', 55.4417), (374, 0, 1, 'Ringhini, Mr. Sante', 'male', 22, 'PC 17760', 135.6333), (376, 1, 1, 'Meyer, Mrs. Edgar Joseph (Leila Saks)', 'female', '', 'PC 17604', 82.1708), (378, 0, 1, 'Widener, Mr. Harry Elkins', 'male', 27, '113503', 211.5), (381, 1, 1, 'Bidois, Miss. Rosalie', 'female', 42, 'PC 17757', 227.525), (384, 1, 1, 'Holverson, Mrs. Alexander Oskar (Mary Aline Towner)', 'female', 35, '113789', 52.0), (391, 1, 1, 'Carter, Mr. William Ernest', 'male', 36, '113760', 120.0), (394, 1, 1, 'Newell, Miss. Marjorie', 'female', 23, '35273', 113.275), (413, 1, 1, 'Minahan, Miss. Daisy E', 'female', 33, '19928', 90.0), (431, 1, 1, 'Bjornstrom-Steffansson, Mr. Mauritz Hakan', 'male', 28, '110564', 0.0), (435, 0, 1, 'Silvey, Mr. William Baird', 'male', 50, '13507', 55.9), (436, 1, 1, 'Carter, Miss. Lucile Polk', 'female', 14, '113760', 120.0), (439, 0, 1, 'Fortune, Mr. Mark', 'male', 64, '19950', 263.0), (446, 1, 1, 'Dodge, Master. Washington', 'male', 4, '33638', 81.8583), (448, 1, 1, 'Seward, Mr. Frederic Kimber', 'male', 34, '113794', 0.0), (450, 1, 1, 'Peuchen, Major. Arthur Godfrey', 'male', 52, '113786', 30.5), (453, 0, 1, 'Foreman, Mr. Benjamin Laventall', 'male', 30, '113051', 0.0), (454, 1, 1, 'Goldenberg, Mr. Samuel L', 'male', 49, '17453', 89.1042), (457, 0, 1, 'Millet, Mr. Francis Davis', 'male', 65, '13509', 0.0), (458, 1, 1, 'Kenyon, Mrs. Frederick R (Marion)', 'female', '', '17464', 51.8625), (461, 1, 1, 'Anderson, Mr. Harry', 'male', 48, '19952', 0.0), (463, 0, 1, 'Gee, Mr. Arthur H', 'male', 47, '111320', 38.5), (468, 0, 1, 'Smart, Mr. John Montgomery', 'male', 56, '113792', 0.0), (476, 0, 1, 'Clifford, Mr. George Quincy', 'male', '', '110465', 52.0), (485, 1, 1, 'Bishop, Mr. Dickinson H', 'male', 25, '11967', 91.0792), (487, 1, 1, 'Hoyt, Mrs. Frederick Maxfield (Jane Anne Forby)', 'female', 35, '19943', 90.0), (488, 0, 1, 'Kent, Mr. Edward Austin', 'male', 58, '11771', 0.0), (493, 0, 1, 'Molson, Mr. Harry Markland', 'male', 55, '113787', 30.5), (494, 0, 1, 'Artagaveytia, Mr. Ramon', 'male', 71, 'PC 17609', 49.5042), (497, 1, 1, 'Eustis, Miss. Elizabeth Mussey', 'female', 54, '36947', 78.2667), (499, 0, 1, 'Allison, Mrs. Hudson J C (Bessie Waldo Daniels)', 'female', 25, '113781', 151.55), (505, 1, 1, 'Maioni, Miss. Roberta', 'female', 16, '110152', 86.5), (506, 0, 1, 'Penasco y Castellana, Mr. Victor de Satode', 'male', 18, 'PC 17758', 108.9), (508, 1, 1, 'Bradley, Mr. George (\"George Arthur Brayton\")', 'male', '', '111427', 0.0), (513, 1, 1, 'McGough, Mr. James Robert', 'male', 36, 'PC 17473', 0.0), (514, 1, 1, 'Rothschild, Mrs. Martin (Elizabeth L. Barrett)', 'female', 54, 'PC 17603', 59.4), (516, 0, 1, 'Walker, Mr. William Anderson', 'male', 47, '36967', 34.0208), (521, 1, 1, 'Perreault, Miss. Anne', 'female', 30, '12749', 93.5), (524, 1, 1, 'Hippach, Mrs. Louis Albert (Ida Sophia Fischer)', 'female', 44, '111361', 57.9792), (528, 0, 1, 'Farthing, Mr. John', 'male', '', 'PC 17483', 221.7792), (537, 0, 1, 'Butt, Major. Archibald Willingham', 'male', 45, '113050', 0.0), (538, 1, 1, 'LeRoy, Miss. Bertha', 'female', 30, 'PC 17761', 106.425), (540, 1, 1, 'Frolicher, Miss. Hedwig Margaritha', 'female', 22, '13568', 49.5), (541, 1, 1, 'Crosby, Miss. Harriet R', 'female', 36, 'WE/P 5735', 71.0), (545, 0, 1, 'Douglas, Mr. Walter Donald', 'male', 50, 'PC 17761', 106.425), (546, 0, 1, 'Nicholson, Mr. Arthur Ernest', 'male', 64, '693', 0.0), (551, 1, 1, 'Thayer, Mr. John Borland Jr', 'male', 17, '17421', 110.8833), (556, 0, 1, 'Wright, Mr. George', 'male', 62, '113807', 0.0), (557, 1, 1, 'Duff Gordon, Lady. (Lucille Christiana Sutherland) (\"Mrs Morgan\")', 'female', 48, '11755', 39.6), (558, 0, 1, 'Robbins, Mr. Victor', 'male', '', 'PC 17757', 227.525), (559, 1, 1, 'Taussig, Mrs. Emil (Tillie Mandelbaum)', 'female', 39, '110413', 79.65), (572, 1, 1, 'Appleton, Mrs. Edward Dale (Charlotte Lamson)', 'female', 53, '11769', 51.4792), (573, 1, 1, 'Flynn, Mr. John Irwin (\"Irving\")', 'male', 36, 'PC 17474', 0.0), (578, 1, 1, 'Silvey, Mrs. William Baird (Alice Munger)', 'female', 39, '13507', 55.9), (582, 1, 1, 'Thayer, Mrs. John Borland (Marian Longstreth Morris)', 'female', 39, '17421', 110.8833), (584, 0, 1, 'Ross, Mr. John Hugo', 'male', 36, '13049', 40.125), (586, 1, 1, 'Taussig, Miss. Ruth', 'female', 18, '110413', 79.65), (588, 1, 1, 'Frolicher-Stehli, Mr. Maxmillian', 'male', 60, '13567', 79.2), (592, 1, 1, 'Stephenson, Mrs. Walter Bertram (Martha Eustis)', 'female', 52, '36947', 78.2667), (600, 1, 1, 'Duff Gordon, Sir. Cosmo Edmund (\"Mr Morgan\")', 'male', 49, 'PC 17485', 56.9292), (603, 0, 1, 'Harrington, Mr. Charles H', 'male', '', '113796', 42.4), (605, 1, 1, 'Homer, Mr. Harry (\"Mr E Haven\")', 'male', 35, '111426', 0.0), (608, 1, 1, 'Daniel, Mr. Robert Williams', 'male', 27, '113804', 30.5), (610, 1, 1, 'Shutes, Miss. Elizabeth W', 'female', 40, 'PC 17582', 153.4625), (622, 1, 1, 'Kimball, Mr. Edwin Nelson Jr', 'male', 42, '11753', 52.5542), (626, 0, 1, 'Sutton, Mr. Frederick', 'male', 61, '36963', 32.3208), (628, 1, 1, 'Longley, Miss. Gretchen Fiske', 'female', 21, '13502', 77.9583), (631, 1, 1, 'Barkworth, Mr. Algernon Henry Wilson', 'male', 80, '27042', 30.0), (633, 1, 1, 'Stahelin-Maeglin, Dr. Max', 'male', 32, '13214', 30.5), (634, 0, 1, 'Parr, Mr. William Henry Marsh', 'male', '', '112052', 0.0), (642, 1, 1, 'Sagesser, Mlle. Emma', 'female', 24, 'PC 17477', 69.3), (646, 1, 1, 'Harper, Mr. Henry Sleeper', 'male', 48, 'PC 17572', 76.7292), (648, 1, 1, 'Simonius-Blumer, Col. Oberst Alfons', 'male', 56, '13213', 35.5), (660, 0, 1, 'Newell, Mr. Arthur Webster', 'male', 58, '35273', 113.275), (661, 1, 1, 'Frauenthal, Dr. Henry William', 'male', 50, 'PC 17611', 133.65), (663, 0, 1, 'Colley, Mr. Edward Pomeroy', 'male', 47, '5727', 0.0), (670, 1, 1, 'Taylor, Mrs. Elmer Zebley (Juliet Cummins Wright)', 'female', '', '19996', 52.0), (672, 0, 1, 'Davidson, Mr. Thornton', 'male', 31, 'F.C. 12750', 52.0), (680, 1, 1, 'Cardeza, Mr. Thomas Drake Martinez', 'male', 36, 'PC 17755', 512.3292), (682, 1, 1, 'Hassab, Mr. Hammad', 'male', 27, 'PC 17572', 76.7292), (690, 1, 1, 'Madill, Miss. Georgette Alexandra', 'female', 15, '24160', 211.3375), (691, 1, 1, 'Dick, Mr. Albert Adrian', 'male', 31, '17474', 57.0), (695, 0, 1, 'Weir, Col. John', 'male', 60, '113800', 0.0), (699, 0, 1, 'Thayer, Mr. John Borland', 'male', 49, '17421', 110.8833), (701, 1, 1, 'Astor, Mrs. John Jacob (Madeleine Talmadge Force)', 'female', 18, 'PC 17757', 227.525), (702, 1, 1, 'Silverthorne, Mr. Spencer Victor', 'male', 35, 'PC 17475', 0.0), (708, 1, 1, 'Calderhead, Mr. Edward Pennington', 'male', 42, 'PC 17476', 0.0), (709, 1, 1, 'Cleaver, Miss. Alice', 'female', 22, '113781', 151.55), (711, 1, 1, 'Mayne, Mlle. Berthe Antonine (\"Mrs de Villiers\")', 'female', 24, 'PC 17482', 49.5042), (712, 0, 1, 'Klaber, Mr. Herman', 'male', '', '113028', 0.0), (713, 1, 1, 'Taylor, Mr. Elmer Zebley', 'male', 48, '19996', 52.0), (717, 1, 1, 'Endres, Miss. Caroline Louise', 'female', 38, 'PC 17757', 227.525), (725, 1, 1, 'Chambers, Mr. Norman Campbell', 'male', 27, '113806', 53.1), (731, 1, 1, 'Allen, Miss. Elisabeth Walton', 'female', 29, '24160', 211.3375), (738, 1, 1, 'Lesurer, Mr. Gustave J', 'male', 35, 'PC 17755', 512.3292), (741, 1, 1, 'Hawksford, Mr. Walter James', 'male', '', '16988', 30.0), (742, 0, 1, 'Cavendish, Mr. Tyrell William', 'male', 36, '19877', 78.85), (743, 1, 1, 'Ryerson, Miss. Susan Parker \"Suzette\"', 'female', 21, 'PC 17608', 262.375), (746, 0, 1, 'Crosby, Capt. Edward Gifford', 'male', 70, 'WE/P 5735', 71.0), (749, 0, 1, 'Marvin, Mr. Daniel Warner', 'male', 19, '113773', 53.1), (760, 1, 1, 'Rothes, the Countess. of (Lucy Noel Martha Dyer-Edwards)', 'female', 33, '110152', 86.5), (764, 1, 1, 'Carter, Mrs. William Ernest (Lucile Polk)', 'female', 36, '113760', 120.0), (766, 1, 1, 'Hogeboom, Mrs. John C (Anna Andrews)', 'female', 51, '13502', 77.9583), (767, 0, 1, 'Brewe, Dr. Arthur Jackson', 'male', '', '112379', 39.6), (780, 1, 1, 'Robert, Mrs. Edward Scott (Elisabeth Walton McMillan)', 'female', 43, '24160', 211.3375), (782, 1, 1, 'Dick, Mrs. Albert Adrian (Vera Gillespie)', 'female', 17, '17474', 57.0), (783, 0, 1, 'Long, Mr. Milton Clyde', 'male', 29, '113501', 30.0), (790, 0, 1, 'Guggenheim, Mr. Benjamin', 'male', 46, 'PC 17593', 79.2), (794, 0, 1, 'Hoyt, Mr. William Fisher', 'male', '', 'PC 17600', 30.6958), (797, 1, 1, 'Leader, Dr. Alice (Farnham)', 'female', 49, '17465', 0.0), (803, 1, 1, 'Carter, Master. William Thornton II', 'male', 11, '113760', 120.0), (807, 0, 1, 'Andrews, Mr. Thomas Jr', 'male', 39, '112050', 0.0), (810, 1, 1, 'Chambers, Mrs. Norman Campbell (Bertha Griggs)', 'female', 33, '113806', 53.1), (816, 0, 1, 'Fry, Mr. Richard', 'male', '', '112058', 0.0), (821, 1, 1, 'Hays, Mrs. Charles Melville (Clara Jennings Gregg)', 'female', 52, '12749', 93.5), (823, 0, 1, 'Reuchlin, Jonkheer. John George', 'male', 38, '19972', 0.0), (830, 1, 1, 'Stone, Mrs. George Nelson (Martha Evelyn)', 'female', 62, '113572', 80.0), (836, 1, 1, 'Compton, Miss. Sara Rebecca', 'female', 39, 'PC 17756', 83.1583), (840, 1, 1, 'Marechal, Mr. Pierre', 'male', '', '11774', 0.0), (843, 1, 1, 'Serepeca, Miss. Augusta', 'female', 30, '113798', 31.0), (850, 1, 1, 'Goldenberg, Mrs. Samuel L (Edwiga Grabowska)', 'female', '', '17453', 89.1042), (854, 1, 1, 'Lines, Miss. Mary Conover', 'female', 16, 'PC 17592', 39.4), (857, 1, 1, 'Wick, Mrs. George Dennick (Mary Hitchcock)', 'female', 45, '36928', 164.8667), (858, 1, 1, 'Daly, Mr. Peter Denis ', 'male', 51, '113055', 0.0), (863, 1, 1, 'Swift, Mrs. Frederick Joel (Margaret Welles Barron)', 'female', 48, '17466', 0.0), (868, 0, 1, 'Roebling, Mr. Washington Augustus II', 'male', 31, 'PC 17590', 50.4958), (872, 1, 1, 'Beckwith, Mrs. Richard Leonard (Sallie Monypeny)', 'female', 47, '11751', 52.5542), (873, 0, 1, 'Carlsson, Mr. Frans Olof', 'male', 33, '695', 5.0), (880, 1, 1, 'Potter, Mrs. Thomas Jr (Lily Alexenia Wilson)', 'female', 56, '11767', 83.1583), (888, 1, 1, 'Graham, Miss. Margaret Edith', 'female', 19, '112053', 30.0), (890, 1, 1, 'Behr, Mr. Karl Howell', 'male', 26, '111369', 30.0)]\n"
     ]
    }
   ],
   "source": [
    "# Query 1\n",
    "print('Query 1 output')\n",
    "conn, cur = create_connection()\n",
    "create_titanic_dataset()\n",
    "cur.execute('SELECT * FROM titanic_dataset WHERE Pclass=1')\n",
    "print(cur.fetchall())\n",
    "conn.commit()\n",
    "conn.close()\n"
   ]
  },
  {
   "cell_type": "code",
   "execution_count": 16,
   "metadata": {},
   "outputs": [
    {
     "name": "stdout",
     "output_type": "stream",
     "text": [
      "Query 2 output\n",
      "[(2, 1, 1, 'Cumings, Mrs. John Bradley (Florence Briggs Thayer)', 'female', 38, 'PC 17599', 71.2833), (3, 1, 3, 'Heikkinen, Miss. Laina', 'female', 26, 'STON/O2. 3101282', 7.925), (4, 1, 1, 'Futrelle, Mrs. Jacques Heath (Lily May Peel)', 'female', 35, '113803', 53.1), (9, 1, 3, 'Johnson, Mrs. Oscar W (Elisabeth Vilhelmina Berg)', 'female', 27, '347742', 11.1333), (10, 1, 2, 'Nasser, Mrs. Nicholas (Adele Achem)', 'female', 14, '237736', 30.0708), (11, 1, 3, 'Sandstrom, Miss. Marguerite Rut', 'female', 4, 'PP 9549', 16.7), (12, 1, 1, 'Bonnell, Miss. Elizabeth', 'female', 58, '113783', 0.0), (16, 1, 2, 'Hewlett, Mrs. (Mary D Kingcome) ', 'female', 55, '248706', 16.0), (20, 1, 3, 'Masselmani, Mrs. Fatima', 'female', '', '2649', 7.225), (23, 1, 3, 'McGowan, Miss. Anna \"Annie\"', 'female', 15, '330923', 8.0292), (26, 1, 3, 'Asplund, Mrs. Carl Oscar (Selma Augusta Emilia Johansson)', 'female', 38, '347077', 31.3875), (29, 1, 3, 'O\\'Dwyer, Miss. Ellen \"Nellie\"', 'female', '', '330959', 7.8792), (32, 1, 1, 'Spencer, Mrs. William Augustus (Marie Eugenie)', 'female', '', 'PC 17569', 146.5208), (33, 1, 3, 'Glynn, Miss. Mary Agatha', 'female', '', '335677', 7.75), (40, 1, 3, 'Nicola-Yarred, Miss. Jamila', 'female', 14, '2651', 11.2417), (44, 1, 2, 'Laroche, Miss. Simonne Marie Anne Andree', 'female', 3, 'SC/Paris 2123', 41.5792), (45, 1, 3, 'Devaney, Miss. Margaret Delia', 'female', 19, '330958', 7.8792), (48, 1, 3, \"O'Driscoll, Miss. Bridget\", 'female', '', '14311', 7.75), (53, 1, 1, 'Harper, Mrs. Henry Sleeper (Myna Haxtun)', 'female', 49, 'PC 17572', 76.7292), (54, 1, 2, 'Faunthorpe, Mrs. Lizzie (Elizabeth Anne Wilkinson)', 'female', 29, '2926', 0.0), (57, 1, 2, 'Rugg, Miss. Emily', 'female', 21, 'C.A. 31026', 10.5), (59, 1, 2, 'West, Miss. Constance Mirium', 'female', 5, 'C.A. 34651', 0.0), (62, 1, 1, 'Icard, Miss. Amelie', 'female', 38, '113572', 80.0), (67, 1, 2, 'Nye, Mrs. (Elizabeth Ramell)', 'female', 29, 'C.A. 29395', 10.5), (69, 1, 3, 'Andersson, Miss. Erna Alexandra', 'female', 17, '3101281', 7.925), (80, 1, 3, 'Dowdell, Miss. Elizabeth', 'female', 30, '364516', 12.475), (83, 1, 3, 'McDermott, Miss. Brigdet Delia', 'female', '', '330932', 7.7875), (85, 1, 2, 'Ilett, Miss. Bertha', 'female', 17, 'SO/C 14885', 10.5), (86, 1, 3, 'Backstrom, Mrs. Karl Alfred (Maria Mathilda Gustafsson)', 'female', 33, '3101278', 15.85), (89, 1, 1, 'Fortune, Miss. Mabel Helen', 'female', 23, '19950', 263.0), (99, 1, 2, 'Doling, Mrs. John T (Ada Julia Bone)', 'female', 34, '231919', 0.0), (107, 1, 3, 'Salkjelsvik, Miss. Anna Kristine', 'female', 21, '343120', 7.65), (110, 1, 3, 'Moran, Miss. Bertha', 'female', '', '371110', 0.0), (124, 1, 2, 'Webber, Miss. Susan', 'female', 32.5, '27267', 13.0), (129, 1, 3, 'Peter, Miss. Anna', 'female', '', '2668', 0.0), (134, 1, 2, 'Weisz, Mrs. Leopold (Mathilde Francoise Pede)', 'female', 29, '228414', 0.0), (137, 1, 1, 'Newsom, Miss. Helen Monypeny', 'female', 19, '11752', 0.0), (142, 1, 3, 'Nysten, Miss. Anna Sofia', 'female', 22, '347081', 7.75), (143, 1, 3, 'Hakkarainen, Mrs. Pekka Pietari (Elin Matilda Dolck)', 'female', 24, 'STON/O2. 3101279', 15.85), (152, 1, 1, 'Pears, Mrs. Thomas (Edith Wearne)', 'female', 22, '113776', 66.6), (157, 1, 3, 'Gilnagh, Miss. Katherine \"Katie\"', 'female', 16, '35851', 7.7333), (162, 1, 2, 'Watt, Mrs. James (Elizabeth \"Bessie\" Inglis Milne)', 'female', 40, 'C.A. 33595', 15.75), (167, 1, 1, 'Chibnall, Mrs. (Edith Martha Bowerman)', 'female', '', '113505', 55.0), (173, 1, 3, 'Johnson, Miss. Eleanor Ileen', 'female', 1, '347742', 11.1333), (185, 1, 3, 'Kink-Heilmann, Miss. Luise Gretchen', 'female', 4, '315153', 0.0), (187, 1, 3, 'O\\'Brien, Mrs. Thomas (Johanna \"Hannah\" Godfrey)', 'female', '', '370365', 15.5), (191, 1, 2, 'Pinsky, Mrs. (Rosa)', 'female', 32, '234604', 13.0), (193, 1, 3, 'Andersen-Jensen, Miss. Carla Christine Nielsine', 'female', 19, '350046', 7.8542), (195, 1, 1, 'Brown, Mrs. James Joseph (Margaret Tobin)', 'female', 44, 'PC 17610', 0.0), (196, 1, 1, 'Lurette, Miss. Elise', 'female', 58, 'PC 17569', 146.5208), (199, 1, 3, 'Madigan, Miss. Margaret \"Maggie\"', 'female', '', '370370', 7.75), (209, 1, 3, 'Carr, Miss. Helen \"Ellen\"', 'female', 16, '367231', 7.75), (212, 1, 2, 'Cameron, Miss. Clear Annie', 'female', 35, 'F.C.C. 13528', 0.0), (216, 1, 1, 'Newell, Miss. Madeleine', 'female', 31, '35273', 113.275), (217, 1, 3, 'Honkanen, Miss. Eliina', 'female', 27, 'STON/O2. 3101283', 7.925), (219, 1, 1, 'Bazzani, Miss. Albina', 'female', 32, '11813', 76.2917), (231, 1, 1, 'Harris, Mrs. Henry Birkhardt (Irene Wallach)', 'female', 35, '36973', 83.475), (234, 1, 3, 'Asplund, Miss. Lillian Gertrud', 'female', 5, '347077', 31.3875), (238, 1, 2, 'Collyer, Miss. Marjorie \"Lottie\"', 'female', 8, 'C.A. 31921', 0.0), (242, 1, 3, 'Murphy, Miss. Katherine \"Kate\"', 'female', '', '367230', 15.5), (248, 1, 2, 'Hamalainen, Mrs. William (Anna)', 'female', 24, '250649', 14.5), (256, 1, 3, 'Touma, Mrs. Darwis (Hanne Youssef Razi)', 'female', 29, '2650', 15.2458), (257, 1, 1, 'Thorne, Mrs. Gertrude Maybelle', 'female', '', 'PC 17585', 79.2), (258, 1, 1, 'Cherry, Miss. Gladys', 'female', 30, '110152', 86.5), (259, 1, 1, 'Ward, Miss. Anna', 'female', 35, 'PC 17755', 512.3292), (260, 1, 2, 'Parrish, Mrs. (Lutie Davis)', 'female', 50, '230433', 0.0), (269, 1, 1, 'Graham, Mrs. William Thompson (Edith Junkins)', 'female', 58, 'PC 17582', 153.4625), (270, 1, 1, 'Bissette, Miss. Amelia', 'female', 35, 'PC 17760', 135.6333), (273, 1, 2, 'Mellinger, Mrs. (Elizabeth Anne Maidment)', 'female', 41, '250644', 19.5), (275, 1, 3, 'Healy, Miss. Hanora \"Nora\"', 'female', '', '370375', 7.75), (276, 1, 1, 'Andrews, Miss. Kornelia Theodosia', 'female', 63, '13502', 77.9583), (280, 1, 3, 'Abbott, Mrs. Stanton (Rosa Hunt)', 'female', 35, 'C.A. 2673', 0.0), (290, 1, 3, 'Connolly, Miss. Kate', 'female', 22, '370373', 7.75), (291, 1, 1, 'Barber, Miss. Ellen \"Nellie\"', 'female', 26, '19877', 78.85), (292, 1, 1, 'Bishop, Mrs. Dickinson H (Helen Walton)', 'female', 19, '11967', 91.0792), (300, 1, 1, 'Baxter, Mrs. James (Helene DeLaudeniere Chaput)', 'female', 50, 'PC 17558', 247.5208), (301, 1, 3, 'Kelly, Miss. Anna Katherine \"Annie Kate\"', 'female', '', '9234', 7.75), (304, 1, 2, 'Keane, Miss. Nora A', 'female', '', '226593', 12.35), (307, 1, 1, 'Fleming, Miss. Margaret', 'female', '', '17421', 110.8833), (308, 1, 1, 'Penasco y Castellana, Mrs. Victor de Satode (Maria Josefa Perez de Soto y Vallejo)', 'female', 17, 'PC 17758', 108.9), (310, 1, 1, 'Francatelli, Miss. Laura Mabel', 'female', 30, 'PC 17485', 56.9292), (311, 1, 1, 'Hays, Miss. Margaret Bechstein', 'female', 24, '11767', 83.1583), (312, 1, 1, 'Ryerson, Miss. Emily Borie', 'female', 18, 'PC 17608', 262.375), (316, 1, 3, 'Nilsson, Miss. Helmina Josefina', 'female', 26, '347470', 7.8542), (317, 1, 2, 'Kantor, Mrs. Sinai (Miriam Sternin)', 'female', 24, '244367', 0.0), (319, 1, 1, 'Wick, Miss. Mary Natalie', 'female', 31, '36928', 164.8667), (320, 1, 1, 'Spedden, Mrs. Frederic Oakley (Margaretta Corning Stone)', 'female', 40, '16966', 134.5), (323, 1, 2, 'Slayter, Miss. Hilda Mary', 'female', 30, '234818', 12.35), (324, 1, 2, 'Caldwell, Mrs. Albert Francis (Sylvia Mae Harbaugh)', 'female', 22, '248738', 0.0), (326, 1, 1, 'Young, Miss. Marie Grice', 'female', 36, 'PC 17760', 135.6333), (328, 1, 2, 'Ball, Mrs. (Ada E Hall)', 'female', 36, '28551', 13.0), (329, 1, 3, 'Goldsmith, Mrs. Frank John (Emily Alice Brown)', 'female', 31, '363291', 0.0), (330, 1, 1, 'Hippach, Miss. Jean Gertrude', 'female', 16, '111361', 57.9792), (331, 1, 3, 'McCoy, Miss. Agnes', 'female', '', '367226', 0.0), (335, 1, 1, 'Frauenthal, Mrs. Henry William (Clara Heinsheimer)', 'female', '', 'PC 17611', 133.65), (338, 1, 1, 'Burns, Miss. Elizabeth Margaret', 'female', 41, '16966', 134.5), (342, 1, 1, 'Fortune, Miss. Alice Elizabeth', 'female', 24, '19950', 263.0), (346, 1, 2, 'Brown, Miss. Amelia \"Mildred\"', 'female', 24, '248733', 13.0), (347, 1, 2, 'Smith, Miss. Marion Elsie', 'female', 40, '31418', 13.0), (348, 1, 3, 'Davison, Mrs. Thomas Henry (Mary E Finck)', 'female', '', '386525', 16.1), (357, 1, 1, 'Bowerman, Miss. Elsie Edith', 'female', 22, '113505', 55.0), (359, 1, 3, 'McGovern, Miss. Mary', 'female', '', '330931', 7.8792), (360, 1, 3, 'Mockler, Miss. Helen Mary \"Ellie\"', 'female', '', '330980', 7.8792), (367, 1, 1, 'Warren, Mrs. Frank Manley (Anna Sophia Atkinson)', 'female', 60, '110813', 75.25), (368, 1, 3, 'Moussa, Mrs. (Mantoura Boulos)', 'female', '', '2626', 7.2292), (369, 1, 3, 'Jermyn, Miss. Annie', 'female', '', '14313', 7.75), (370, 1, 1, 'Aubart, Mme. Leontine Pauline', 'female', 24, 'PC 17477', 69.3), (376, 1, 1, 'Meyer, Mrs. Edgar Joseph (Leila Saks)', 'female', '', 'PC 17604', 82.1708), (377, 1, 3, 'Landergren, Miss. Aurora Adelia', 'female', 22, 'C 7077', 7.25), (381, 1, 1, 'Bidois, Miss. Rosalie', 'female', 42, 'PC 17757', 227.525), (382, 1, 3, 'Nakid, Miss. Maria (\"Mary\")', 'female', 1, '2653', 15.7417), (384, 1, 1, 'Holverson, Mrs. Alexander Oskar (Mary Aline Towner)', 'female', 35, '113789', 52.0), (388, 1, 2, 'Buss, Miss. Kate', 'female', 36, '27849', 13.0), (390, 1, 2, 'Lehmann, Miss. Bertha', 'female', 17, 'SC 1748', 12.0), (394, 1, 1, 'Newell, Miss. Marjorie', 'female', 23, '35273', 113.275), (395, 1, 3, 'Sandstrom, Mrs. Hjalmar (Agnes Charlotta Bengtsson)', 'female', 24, 'PP 9549', 16.7), (400, 1, 2, 'Trout, Mrs. William H (Jessie L)', 'female', 28, '240929', 12.65), (413, 1, 1, 'Minahan, Miss. Daisy E', 'female', 33, '19928', 90.0), (417, 1, 2, 'Drew, Mrs. James Vivian (Lulu Thorne Christian)', 'female', 34, '28220', 32.5), (418, 1, 2, 'Silven, Miss. Lyyli Karoliina', 'female', 18, '250652', 13.0), (427, 1, 2, 'Clarke, Mrs. Charles V (Ada Maria Winfield)', 'female', 28, '2003', 0.0), (428, 1, 2, 'Phillips, Miss. Kate Florence (\"Mrs Kate Louise Phillips Marshall\")', 'female', 19, '250655', 0.0), (432, 1, 3, 'Thorneycroft, Mrs. Percival (Florence Kate White)', 'female', '', '376564', 16.1), (433, 1, 2, 'Louch, Mrs. Charles Alexander (Alice Adelaide Slow)', 'female', 42, 'SC/AH 3085', 0.0), (436, 1, 1, 'Carter, Miss. Lucile Polk', 'female', 14, '113760', 120.0), (438, 1, 2, 'Richards, Mrs. Sidney (Emily Hocking)', 'female', 24, '29106', 18.75), (441, 1, 2, 'Hart, Mrs. Benjamin (Esther Ada Bloomfield)', 'female', 45, 'F.C.C. 13529', 0.0), (444, 1, 2, 'Reynaldo, Ms. Encarnacion', 'female', 28, '230434', 13.0), (447, 1, 2, 'Mellinger, Miss. Madeleine Violet', 'female', 13, '250644', 19.5), (449, 1, 3, 'Baclini, Miss. Marie Catherine', 'female', 5, '2666', 19.2583), (458, 1, 1, 'Kenyon, Mrs. Frederick R (Marion)', 'female', '', '17464', 51.8625), (459, 1, 2, 'Toomey, Miss. Ellen', 'female', 50, 'F.C.C. 13531', 10.5), (470, 1, 3, 'Baclini, Miss. Helene Barbara', 'female', 0.75, '2666', 19.2583), (473, 1, 2, 'West, Mrs. Edwy Arthur (Ada Mary Worth)', 'female', 33, 'C.A. 34651', 0.0), (474, 1, 2, 'Jerwan, Mrs. Amin S (Marie Marthe Thuillard)', 'female', 23, 'SC/AH Basle 541', 13.7917), (480, 1, 3, 'Hirvonen, Miss. Hildur E', 'female', 2, '3101298', 12.2875), (484, 1, 3, 'Turkula, Mrs. (Hedwig)', 'female', 63, '4134', 9.5875), (487, 1, 1, 'Hoyt, Mrs. Frederick Maxfield (Jane Anne Forby)', 'female', 35, '19943', 90.0), (497, 1, 1, 'Eustis, Miss. Elizabeth Mussey', 'female', 54, '36947', 78.2667), (505, 1, 1, 'Maioni, Miss. Roberta', 'female', 16, '110152', 86.5), (507, 1, 2, 'Quick, Mrs. Frederick Charles (Jane Richards)', 'female', 33, '26360', 0.0), (514, 1, 1, 'Rothschild, Mrs. Martin (Elizabeth L. Barrett)', 'female', 54, 'PC 17603', 59.4), (517, 1, 2, 'Lemore, Mrs. (Amelia Milley)', 'female', 34, 'C.A. 34260', 10.5), (519, 1, 2, 'Angle, Mrs. William A (Florence \"Mary\" Agnes Hughes)', 'female', 36, '226875', 0.0), (521, 1, 1, 'Perreault, Miss. Anne', 'female', 30, '12749', 93.5), (524, 1, 1, 'Hippach, Mrs. Louis Albert (Ida Sophia Fischer)', 'female', 44, '111361', 57.9792), (527, 1, 2, 'Ridsdale, Miss. Lucy', 'female', 50, 'W./C. 14258', 10.5), (531, 1, 2, 'Quick, Miss. Phyllis May', 'female', 2, '26360', 0.0), (534, 1, 3, 'Peter, Mrs. Catherine (Catherine Rizk)', 'female', '', '2668', 0.0), (536, 1, 2, 'Hart, Miss. Eva Miriam', 'female', 7, 'F.C.C. 13529', 0.0), (538, 1, 1, 'LeRoy, Miss. Bertha', 'female', 30, 'PC 17761', 106.425), (540, 1, 1, 'Frolicher, Miss. Hedwig Margaritha', 'female', 22, '13568', 49.5), (541, 1, 1, 'Crosby, Miss. Harriet R', 'female', 36, 'WE/P 5735', 71.0), (547, 1, 2, 'Beane, Mrs. Edward (Ethel Clarke)', 'female', 19, '2908', 0.0), (555, 1, 3, 'Ohman, Miss. Velin', 'female', 22, '347085', 7.775), (557, 1, 1, 'Duff Gordon, Lady. (Lucille Christiana Sutherland) (\"Mrs Morgan\")', 'female', 48, '11755', 39.6), (559, 1, 1, 'Taussig, Mrs. Emil (Tillie Mandelbaum)', 'female', 39, '110413', 79.65), (560, 1, 3, 'de Messemaeker, Mrs. Guillaume Joseph (Emma)', 'female', 36, '345572', 17.4), (572, 1, 1, 'Appleton, Mrs. Edward Dale (Charlotte Lamson)', 'female', 53, '11769', 51.4792), (574, 1, 3, 'Kelly, Miss. Mary', 'female', '', '14312', 7.75), (577, 1, 2, 'Garside, Miss. Ethel', 'female', 34, '243880', 13.0), (578, 1, 1, 'Silvey, Mrs. William Baird (Alice Munger)', 'female', 39, '13507', 55.9), (581, 1, 2, 'Christy, Miss. Julie Rachel', 'female', 25, '237789', 30.0), (582, 1, 1, 'Thayer, Mrs. John Borland (Marian Longstreth Morris)', 'female', 39, '17421', 110.8833), (586, 1, 1, 'Taussig, Miss. Ruth', 'female', 18, '110413', 79.65), (592, 1, 1, 'Stephenson, Mrs. Walter Bertram (Martha Eustis)', 'female', 52, '36947', 78.2667), (597, 1, 2, 'Leitch, Miss. Jessie Wills', 'female', '', '248727', 33.0), (601, 1, 2, 'Jacobsohn, Mrs. Sidney Samuel (Amy Frances Christy)', 'female', 24, '243847', 0.0), (609, 1, 2, 'Laroche, Mrs. Joseph (Juliette Marie Louise Lafargue)', 'female', 22, 'SC/Paris 2123', 41.5792), (610, 1, 1, 'Shutes, Miss. Elizabeth W', 'female', 40, 'PC 17582', 153.4625), (613, 1, 3, 'Murphy, Miss. Margaret Jane', 'female', '', '367230', 15.5), (616, 1, 2, 'Herman, Miss. Alice', 'female', 24, '220845', 65.0), (619, 1, 2, 'Becker, Miss. Marion Louise', 'female', 4, '230136', 39.0), (628, 1, 1, 'Longley, Miss. Gretchen Fiske', 'female', 21, '13502', 77.9583), (636, 1, 2, 'Davis, Miss. Mary', 'female', 28, '237668', 13.0), (642, 1, 1, 'Sagesser, Mlle. Emma', 'female', 24, 'PC 17477', 69.3), (645, 1, 3, 'Baclini, Miss. Eugenie', 'female', 0.75, '2666', 19.2583), (650, 1, 3, 'Stanley, Miss. Amy Zillah Elsie', 'female', 23, 'CA. 2314', 7.55), (652, 1, 2, 'Doling, Miss. Elsie', 'female', 18, '231919', 0.0), (654, 1, 3, 'O\\'Leary, Miss. Hanora \"Norah\"', 'female', '', '330919', 7.8292), (670, 1, 1, 'Taylor, Mrs. Elmer Zebley (Juliet Cummins Wright)', 'female', '', '19996', 52.0), (671, 1, 2, 'Brown, Mrs. Thomas William Solomon (Elizabeth Catherine Ford)', 'female', 40, '29750', 39.0), (678, 1, 3, 'Turja, Miss. Anna Sofia', 'female', 18, '4138', 9.8417), (690, 1, 1, 'Madill, Miss. Georgette Alexandra', 'female', 15, '24160', 211.3375), (692, 1, 3, 'Karun, Miss. Manca', 'female', 4, '349256', 13.4167), (698, 1, 3, 'Mullens, Miss. Katherine \"Katie\"', 'female', '', '35852', 7.7333), (701, 1, 1, 'Astor, Mrs. John Jacob (Madeleine Talmadge Force)', 'female', 18, 'PC 17757', 227.525), (707, 1, 2, 'Kelly, Mrs. Florence \"Fannie\"', 'female', 45, '223596', 13.5), (709, 1, 1, 'Cleaver, Miss. Alice', 'female', 22, '113781', 151.55), (711, 1, 1, 'Mayne, Mlle. Berthe Antonine (\"Mrs de Villiers\")', 'female', 24, 'PC 17482', 49.5042), (717, 1, 1, 'Endres, Miss. Caroline Louise', 'female', 38, 'PC 17757', 227.525), (718, 1, 2, 'Troutt, Miss. Edwina Celia \"Winnie\"', 'female', 27, '34218', 10.5), (721, 1, 2, 'Harper, Miss. Annie Jessie \"Nina\"', 'female', 6, '248727', 33.0), (727, 1, 2, 'Renouf, Mrs. Peter Henry (Lillian Jefferys)', 'female', 30, '31027', 0.0), (728, 1, 3, 'Mannion, Miss. Margareth', 'female', '', '36866', 7.7375), (731, 1, 1, 'Allen, Miss. Elisabeth Walton', 'female', 29, '24160', 211.3375), (743, 1, 1, 'Ryerson, Miss. Susan Parker \"Suzette\"', 'female', 21, 'PC 17608', 262.375), (748, 1, 2, 'Sinkkonen, Miss. Anna', 'female', 30, '250648', 13.0), (751, 1, 2, 'Wells, Miss. Joan', 'female', 4, '29103', 0.0), (755, 1, 2, 'Herman, Mrs. Samuel (Jane Laver)', 'female', 48, '220845', 65.0), (760, 1, 1, 'Rothes, the Countess. of (Lucy Noel Martha Dyer-Edwards)', 'female', 33, '110152', 86.5), (764, 1, 1, 'Carter, Mrs. William Ernest (Lucile Polk)', 'female', 36, '113760', 120.0), (766, 1, 1, 'Hogeboom, Mrs. John C (Anna Andrews)', 'female', 51, '13502', 77.9583), (775, 1, 2, 'Hocking, Mrs. Elizabeth (Eliza Needs)', 'female', 54, '29105', 0.0), (778, 1, 3, 'Emanuel, Miss. Virginia Ethel', 'female', 5, '364516', 12.475), (780, 1, 1, 'Robert, Mrs. Edward Scott (Elisabeth Walton McMillan)', 'female', 43, '24160', 211.3375), (781, 1, 3, 'Ayoub, Miss. Banoura', 'female', 13, '2687', 7.2292), (782, 1, 1, 'Dick, Mrs. Albert Adrian (Vera Gillespie)', 'female', 17, '17474', 57.0), (787, 1, 3, 'Sjoblom, Miss. Anna Sofia', 'female', 18, '3101265', 7.4958), (797, 1, 1, 'Leader, Dr. Alice (Farnham)', 'female', 49, '17465', 0.0), (798, 1, 3, 'Osman, Mrs. Mara', 'female', 31, '349244', 8.6833), (802, 1, 2, 'Collyer, Mrs. Harvey (Charlotte Annie Tate)', 'female', 31, 'C.A. 31921', 0.0), (810, 1, 1, 'Chambers, Mrs. Norman Campbell (Bertha Griggs)', 'female', 33, '113806', 53.1), (821, 1, 1, 'Hays, Mrs. Charles Melville (Clara Jennings Gregg)', 'female', 52, '12749', 93.5), (824, 1, 3, 'Moor, Mrs. (Beila)', 'female', 27, '392096', 12.475), (830, 1, 1, 'Stone, Mrs. George Nelson (Martha Evelyn)', 'female', 62, '113572', 80.0), (831, 1, 3, 'Yasbeck, Mrs. Antoni (Selini Alexander)', 'female', 15, '2659', 14.4542), (836, 1, 1, 'Compton, Miss. Sara Rebecca', 'female', 39, 'PC 17756', 83.1583), (843, 1, 1, 'Serepeca, Miss. Augusta', 'female', 30, '113798', 31.0), (850, 1, 1, 'Goldenberg, Mrs. Samuel L (Edwiga Grabowska)', 'female', '', '17453', 89.1042), (854, 1, 1, 'Lines, Miss. Mary Conover', 'female', 16, 'PC 17592', 39.4), (856, 1, 3, 'Aks, Mrs. Sam (Leah Rosen)', 'female', 18, '392091', 9.35), (857, 1, 1, 'Wick, Mrs. George Dennick (Mary Hitchcock)', 'female', 45, '36928', 164.8667), (859, 1, 3, 'Baclini, Mrs. Solomon (Latifa Qurban)', 'female', 24, '2666', 19.2583), (863, 1, 1, 'Swift, Mrs. Frederick Joel (Margaret Welles Barron)', 'female', 48, '17466', 0.0), (866, 1, 2, 'Bystrom, Mrs. (Karolina)', 'female', 42, '236852', 13.0), (867, 1, 2, 'Duran y More, Miss. Asuncion', 'female', 27, 'SC/PARIS 2149', 13.8583), (872, 1, 1, 'Beckwith, Mrs. Richard Leonard (Sallie Monypeny)', 'female', 47, '11751', 52.5542), (875, 1, 2, 'Abelson, Mrs. Samuel (Hannah Wizosky)', 'female', 28, 'P/PP 3381', 0.0), (876, 1, 3, 'Najib, Miss. Adele Kiamie \"Jane\"', 'female', 15, '2667', 7.225), (880, 1, 1, 'Potter, Mrs. Thomas Jr (Lily Alexenia Wilson)', 'female', 56, '11767', 83.1583), (881, 1, 2, 'Shelley, Mrs. William (Imanita Parrish Hall)', 'female', 25, '230433', 0.0), (888, 1, 1, 'Graham, Miss. Margaret Edith', 'female', 19, '112053', 30.0)]\n"
     ]
    }
   ],
   "source": [
    "# Query 2\n",
    "print('Query 2 output')\n",
    "conn, cur = create_connection()\n",
    "create_titanic_dataset()\n",
    "cur.execute('SELECT * FROM titanic_dataset WHERE Sex=\\'female\\'AND Survived = 1')\n",
    "print(cur.fetchall())\n",
    "conn.commit()\n",
    "conn.close()\n"
   ]
  },
  {
   "cell_type": "code",
   "execution_count": 17,
   "metadata": {},
   "outputs": [
    {
     "name": "stdout",
     "output_type": "stream",
     "text": [
      "Query 3 output\n",
      "[(165, 0, 3, 'Panula, Master. Eino Viljami', 'male', 1, '3101295', 39.6875), (387, 0, 3, 'Goodwin, Master. Sidney Leonard', 'male', 1, 'CA 2144', 46.9), (8, 0, 3, 'Palsson, Master. Gosta Leonard', 'male', 2, '349909', 0.0), (17, 0, 3, 'Rice, Master. Eugene', 'male', 2, '382652', 0.0), (120, 0, 3, 'Andersson, Miss. Ellis Anna Maria', 'female', 2, '347082', 31.275), (206, 0, 3, 'Strom, Miss. Telma Matilda', 'female', 2, '347054', 10.4625), (298, 0, 1, 'Allison, Miss. Helen Loraine', 'female', 2, '113781', 151.55), (643, 0, 3, 'Skoog, Miss. Margit Elizabeth', 'female', 2, '347088', 0.0), (825, 0, 3, 'Panula, Master. Urho Abraham', 'male', 2, '3101295', 39.6875), (375, 0, 3, 'Palsson, Miss. Stina Viola', 'female', 3, '349909', 0.0), (64, 0, 3, 'Skoog, Master. Harald', 'male', 4, '347088', 0.0), (172, 0, 3, 'Rice, Master. Arthur', 'male', 4, '382652', 0.0), (851, 0, 3, 'Andersson, Master. Sigvard Harald Elias', 'male', 4, '347082', 31.275), (814, 0, 3, 'Andersson, Miss. Ebba Iris Alfrida', 'female', 6, '347082', 31.275), (51, 0, 3, 'Panula, Master. Juha Niilo', 'male', 7, '3101295', 39.6875), (279, 0, 3, 'Rice, Master. Eric', 'male', 7, '382652', 0.0), (25, 0, 3, 'Palsson, Miss. Torborg Danira', 'female', 8, '349909', 0.0), (788, 0, 3, 'Rice, Master. George Hugh', 'male', 8, '382652', 0.0), (148, 0, 3, 'Ford, Miss. Robina Maggie \"Ruby\"', 'female', 9, 'W./C. 6608', 34.375), (183, 0, 3, 'Asplund, Master. Clarence Gustaf Hugo', 'male', 9, '347077', 31.3875), (481, 0, 3, 'Goodwin, Master. Harold Victor', 'male', 9, 'CA 2144', 46.9), (542, 0, 3, 'Andersson, Miss. Ingeborg Constanzia', 'female', 9, '347082', 31.275), (635, 0, 3, 'Skoog, Miss. Mabel', 'female', 9, '347088', 0.0), (853, 0, 3, 'Boulos, Miss. Nourelain', 'female', 9, '2678', 15.2458), (420, 0, 3, 'Van Impe, Miss. Catharina', 'female', 10, '345773', 0.0), (820, 0, 3, 'Skoog, Master. Karl Thorsten', 'male', 10, '347088', 0.0), (60, 0, 3, 'Goodwin, Master. William Frederick', 'male', 11, 'CA 2144', 46.9), (543, 0, 3, 'Andersson, Miss. Sigrid Elisabeth', 'female', 11, '347082', 31.275), (732, 0, 3, 'Hassan, Mr. Houssein G N', 'male', 11, '2699', 18.7875), (15, 0, 3, 'Vestrom, Miss. Hulda Amanda Adolfina', 'female', 14, '350406', 7.8542), (684, 0, 3, 'Goodwin, Mr. Charles Edward', 'male', 14, 'CA 2144', 46.9), (687, 0, 3, 'Panula, Mr. Jaako Arnold', 'male', 14, '3101295', 39.6875), (112, 0, 3, 'Zabour, Miss. Hileni', 'female', 14.5, '2665', 14.4542), (353, 0, 3, 'Elias, Mr. Tannous', 'male', 15, '2695', 7.2292), (72, 0, 3, 'Goodwin, Miss. Lillian Amy', 'female', 16, 'CA 2144', 46.9), (87, 0, 3, 'Ford, Mr. William Neal', 'male', 16, 'W./C. 6608', 34.375), (139, 0, 3, 'Osen, Mr. Olaf Elon', 'male', 16, '7534', 9.2167), (267, 0, 3, 'Panula, Mr. Ernesti Arvid', 'male', 16, '3101295', 39.6875), (283, 0, 3, 'de Pelsmaeker, Mr. Alfons', 'male', 16, '345778', 9.5), (334, 0, 3, 'Vander Planke, Mr. Leo Edmondus', 'male', 16, '345764', 18.0), (575, 0, 3, 'Rush, Mr. Alfred George John', 'male', 16, 'A/4. 20589', 8.05), (747, 0, 3, 'Abbott, Mr. Rossmore Edward', 'male', 16, 'C.A. 2673', 0.0), (765, 0, 3, 'Eklund, Mr. Hans Linus', 'male', 16, '347074', 7.775), (792, 0, 2, 'Gaskell, Mr. Alfred', 'male', 16, '239865', 0.0), (842, 0, 2, 'Mudd, Mr. Thomas Charles', 'male', 16, 'S.O./P.P. 3', 10.5), (115, 0, 3, 'Attalah, Miss. Malake', 'female', 17, '2627', 14.4583), (164, 0, 3, 'Calic, Mr. Jovo', 'male', 17, '315093', 8.6625), (434, 0, 3, 'Kallio, Mr. Nikolai Erland', 'male', 17, 'STON/O 2. 3101274', 7.125), (501, 0, 3, 'Calic, Mr. Petar', 'male', 17, '315086', 8.6625), (533, 0, 3, 'Elias, Mr. Joseph Jr', 'male', 17, '2690', 7.2292), (722, 0, 3, 'Jensen, Mr. Svend Lauritz', 'male', 17, '350048', 7.0542), (845, 0, 3, 'Culumovic, Mr. Jeso', 'male', 17, '315090', 8.6625), (39, 0, 3, 'Vander Planke, Miss. Augusta Maria', 'female', 18, '345764', 18.0), (50, 0, 3, 'Arnold-Franchi, Mrs. Josef (Josefine Franchi)', 'female', 18, '349237', 17.8), (145, 0, 2, 'Andrew, Mr. Edgardo Samuel', 'male', 18, '231945', 11.5), (176, 0, 3, 'Klasen, Mr. Klas Albin', 'male', 18, '350404', 7.8542), (229, 0, 2, 'Fahlstrom, Mr. Arne Jonas', 'male', 18, '236171', 13.0), (372, 0, 3, 'Wiklund, Mr. Jakob Alfred', 'male', 18, '3101267', 6.4958), (386, 0, 2, 'Davies, Mr. Charles Henry', 'male', 18, 'S.O.C. 14879', 73.5), (425, 0, 3, 'Rosblom, Mr. Viktor Richard', 'male', 18, '370129', 0.0), (506, 0, 1, 'Penasco y Castellana, Mr. Victor de Satode', 'male', 18, 'PC 17758', 108.9), (655, 0, 3, 'Hegarty, Miss. Hanora \"Nora\"', 'female', 18, '365226', 6.75), (676, 0, 3, 'Edvardsson, Mr. Gustaf Hjalmar', 'male', 18, '349912', 7.775), (689, 0, 3, 'Fischer, Mr. Eberhard Thelander', 'male', 18, '350036', 7.7958), (703, 0, 3, 'Barbara, Miss. Saiide', 'female', 18, '2691', 14.4542), (758, 0, 2, 'Bailey, Mr. Percy Andrew', 'male', 18, '29108', 11.5), (776, 0, 3, 'Myhrman, Mr. Pehr Fabian Oliver Malkolm', 'male', 18, '347078', 7.75), (808, 0, 3, 'Pettersson, Miss. Ellen Natalia', 'female', 18, '347087', 7.775), (835, 0, 3, 'Allum, Mr. Owen George', 'male', 18, '2223', 8.3), (28, 0, 1, 'Fortune, Mr. Charles Alexander', 'male', 19, '19950', 263.0), (68, 0, 3, 'Crease, Mr. Ernest James', 'male', 19, 'S.P. 3464', 8.1583), (144, 0, 3, 'Burke, Mr. Jeremiah', 'male', 19, '365222', 6.75), (146, 0, 2, 'Nicholls, Mr. Joseph Charles', 'male', 19, 'C.A. 33112', 36.75), (192, 0, 2, 'Carbines, Mr. William', 'male', 19, '28424', 13.0), (239, 0, 2, 'Pengelly, Mr. Frederick William', 'male', 19, '28665', 10.5), (303, 0, 3, 'Johnson, Mr. William Cahoone Jr', 'male', 19, 'LINE', 0.0), (373, 0, 3, 'Beavan, Mr. William Thomas', 'male', 19, '323951', 8.05), (380, 0, 3, 'Gustafsson, Mr. Karl Gideon', 'male', 19, '347069', 7.775), (567, 0, 3, 'Stoytcheff, Mr. Ilia', 'male', 19, '349205', 7.8958), (576, 0, 3, 'Patchett, Mr. George', 'male', 19, '358585', 14.5), (647, 0, 3, 'Cor, Mr. Liudevit', 'male', 19, '349231', 7.8958), (688, 0, 3, 'Dakic, Mr. Branko', 'male', 19, '349228', 10.1708), (716, 0, 3, 'Soholt, Mr. Peter Andreas Lauritz Andersen', 'male', 19, '348124', 7.65), (749, 0, 1, 'Marvin, Mr. Daniel Warner', 'male', 19, '113773', 53.1), (878, 0, 3, 'Petroff, Mr. Nedelio', 'male', 19, '349212', 7.8958), (13, 0, 3, 'Saundercock, Mr. William Henry', 'male', 20, 'A/5. 2151', 8.05), (92, 0, 3, 'Andreasson, Mr. Paul Edvin', 'male', 20, '347466', 7.8542), (114, 0, 3, 'Jussila, Miss. Katriina', 'female', 20, '4136', 9.825), (132, 0, 3, 'Coelho, Mr. Domingos Fernandeo', 'male', 20, 'SOTON/O.Q. 3101307', 7.05), (379, 0, 3, 'Betros, Mr. Tannous', 'male', 20, '2648', 4.0125), (405, 0, 3, 'Oreskovic, Miss. Marija', 'female', 20, '315096', 8.6625), (442, 0, 3, 'Hampe, Mr. Leon', 'male', 20, '345769', 9.5), (641, 0, 3, 'Jensen, Mr. Hans Peder', 'male', 20, '350050', 7.8542), (683, 0, 3, 'Olsvigen, Mr. Thor Anderson', 'male', 20, '6563', 9.225), (726, 0, 3, 'Oreskovic, Mr. Luka', 'male', 20, '315094', 8.6625), (841, 0, 3, 'Alhomaki, Mr. Ilmari Rudolf', 'male', 20, 'SOTON/O2 3101287', 7.925), (877, 0, 3, 'Gustafsson, Mr. Alfred Ossian', 'male', 20, '7534', 9.8458), (228, 0, 3, 'Lovell, Mr. John Hall (\"Henry\")', 'male', 20.5, 'A/5 21173', 7.25), (38, 0, 3, 'Cann, Mr. Ernest Charles', 'male', 21, 'A./5. 2152', 8.05), (52, 0, 3, 'Nosworthy, Mr. Richard Cater', 'male', 21, 'A/4. 39886', 7.8), (73, 0, 2, 'Hood, Mr. Ambrose Jr', 'male', 21, 'S.O.C. 14879', 73.5), (103, 0, 1, 'White, Mr. Richard Frasar', 'male', 21, '35281', 77.2875), (116, 0, 3, 'Pekoniemi, Mr. Edvard', 'male', 21, 'STON/O 2. 3101294', 7.925), (121, 0, 2, 'Hickman, Mr. Stanley George', 'male', 21, 'S.O.C. 14879', 73.5), (174, 0, 3, 'Sivola, Mr. Antti Wilhelm', 'male', 21, 'STON/O 2. 3101280', 7.925), (403, 0, 3, 'Jussila, Miss. Mari Aina', 'female', 21, '4137', 9.825), (409, 0, 3, 'Birkeland, Mr. Hans Martin Monsen', 'male', 21, '312992', 7.775), (422, 0, 3, 'Charters, Mr. David', 'male', 21, 'A/5. 13032', 7.7333), (437, 0, 3, 'Ford, Miss. Doolina Margaret \"Daisy\"', 'female', 21, 'W./C. 6608', 34.375), (492, 0, 3, 'Windelov, Mr. Einar', 'male', 21, 'SOTON/OQ 3101317', 7.25), (495, 0, 3, 'Stanley, Mr. Edward Roland', 'male', 21, 'A/4 45380', 8.05), (502, 0, 3, 'Canavan, Miss. Mary', 'female', 21, '364846', 7.75), (624, 0, 3, 'Hansen, Mr. Henry Damsgaard', 'male', 21, '350029', 7.8542), (625, 0, 3, 'Bowen, Mr. David John \"Dai\"', 'male', 21, '54636', 16.1), (653, 0, 3, 'Kalvik, Mr. Johannes Halvorsen', 'male', 21, '8475', 8.4333), (837, 0, 3, 'Pasic, Mr. Jakob', 'male', 21, '315097', 8.6625), (862, 0, 2, 'Giles, Mr. Frederick Edward', 'male', 21, '28134', 11.5), (1, 0, 3, 'Braund, Mr. Owen Harris', 'male', 22, 'A/5 21171', 7.25), (61, 0, 3, 'Sirayanian, Mr. Orsen', 'male', 22, '2669', 7.2292), (81, 0, 3, 'Waelens, Mr. Achille', 'male', 22, '345767', 9.0), (113, 0, 3, 'Barton, Mr. David John', 'male', 22, '324669', 8.05), (213, 0, 3, 'Perkin, Mr. John Henry', 'male', 22, 'A/5 21174', 7.25), (226, 0, 3, 'Berglund, Mr. Karl Ivar Sven', 'male', 22, 'PP 4348', 9.35), (244, 0, 3, 'Maenpaa, Mr. Matti Alexanteri', 'male', 22, 'STON/O 2. 3101275', 7.125), (288, 0, 3, 'Naidenoff, Mr. Penko', 'male', 22, '349206', 7.8958), (321, 0, 3, 'Dennis, Mr. Samuel', 'male', 22, 'A/5 21172', 7.25), (374, 0, 1, 'Ringhini, Mr. Sante', 'male', 22, 'PC 17760', 135.6333), (396, 0, 3, 'Johansson, Mr. Erik', 'male', 22, '350052', 7.7958), (475, 0, 3, 'Strandberg, Miss. Ida Sofia', 'female', 22, '7553', 9.8375), (479, 0, 3, 'Karlsson, Mr. Nils August', 'male', 22, '350060', 7.5208), (522, 0, 3, 'Vovk, Mr. Janko', 'male', 22, '349252', 7.8958), (589, 0, 3, 'Gilinski, Mr. Eliezer', 'male', 22, '14973', 8.05), (883, 0, 3, 'Dahlberg, Miss. Gerda Ulrika', 'female', 22, '7552', 10.5167), (136, 0, 2, 'Richard, Mr. Emile', 'male', 23, 'SC/PARIS 2133', 15.0458), (351, 0, 3, 'Odahl, Mr. Nils Martin', 'male', 23, '7267', 9.225), (399, 0, 2, 'Pain, Dr. Alfred', 'male', 23, '244278', 10.5), (530, 0, 2, 'Hocking, Mr. Richard George', 'male', 23, '29104', 11.5), (659, 0, 2, 'Eitemiller, Mr. George Floyd', 'male', 23, '29751', 13.0), (734, 0, 2, 'Berriman, Mr. William John', 'male', 23, '28425', 13.0), (735, 0, 2, 'Troupiansky, Mr. Moses Aaron', 'male', 23, '233639', 13.0), (754, 0, 3, 'Jonkoff, Mr. Lalio', 'male', 23, '349204', 7.8958), (817, 0, 3, 'Heininen, Miss. Wendla Maria', 'female', 23, 'STON/O2. 3101290', 7.925), (834, 0, 3, 'Augustsson, Mr. Albert', 'male', 23, '347468', 7.8542), (297, 0, 3, 'Hanna, Mr. Mansour', 'male', 23.5, '2693', 7.2292), (90, 0, 3, 'Celotti, Mr. Francesco', 'male', 24, '343275', 8.05), (119, 0, 1, 'Baxter, Mr. Quigg Edmond', 'male', 24, 'PC 17558', 247.5208), (140, 0, 1, 'Giglio, Mr. Victor', 'male', 24, 'PC 17593', 79.2), (200, 0, 2, 'Yrois, Miss. Henriette (\"Mrs Harbeck\")', 'female', 24, '248747', 13.0), (211, 0, 3, 'Ali, Mr. Ahmed', 'male', 24, 'SOTON/O.Q. 3101311', 7.05), (235, 0, 2, 'Leyson, Mr. Robert William Norman', 'male', 24, 'C.A. 29566', 10.5), (294, 0, 3, 'Haas, Miss. Aloisia', 'female', 24, '349236', 8.85), (295, 0, 3, 'Mineff, Mr. Ivan', 'male', 24, '349233', 7.8958), (500, 0, 3, 'Svensson, Mr. Olof', 'male', 24, '350035', 7.7958), (515, 0, 3, 'Coleff, Mr. Satio', 'male', 24, '349209', 7.4958), (566, 0, 3, 'Davies, Mr. Alfred J', 'male', 24, 'A/4 48871', 0.0), (656, 0, 2, 'Hickman, Mr. Leonard Mark', 'male', 24, 'S.O.C. 14879', 73.5), (744, 0, 3, 'McNamee, Mr. Neal', 'male', 24, '376566', 16.1), (771, 0, 3, 'Lievens, Mr. Rene Aime', 'male', 24, '345781', 9.5), (865, 0, 2, 'Gill, Mr. John William', 'male', 24, '233866', 13.0), (677, 0, 3, 'Sawyer, Mr. Frederick Charles', 'male', 24.5, '342826', 8.05)]\n"
     ]
    }
   ],
   "source": [
    "# Query 3\n",
    "print('Query 3 output')\n",
    "conn, cur = create_connection()\n",
    "create_titanic_dataset()\n",
    "cur.execute('SELECT * FROM titanic_dataset WHERE Age<25 AND Survived = 0 ORDER BY Age ASC')\n",
    "print(cur.fetchall())\n",
    "conn.commit()\n",
    "conn.close()\n",
    "\n"
   ]
  },
  {
   "cell_type": "code",
   "execution_count": 18,
   "metadata": {},
   "outputs": [
    {
     "name": "stdout",
     "output_type": "stream",
     "text": [
      "Query 4 output\n"
     ]
    }
   ],
   "source": [
    "# Query 6\n",
    "print('Query 4 output')\n",
    "conn, cur = create_connection()\n",
    "create_titanic_dataset()\n",
    "cur.execute('UPDATE titanic_dataset set Fare=(select avg(Fare) from titanic_dataset where Fare!=0)where Fare=0')\n",
    "conn.commit()\n",
    "conn.close()\n"
   ]
  },
  {
   "cell_type": "code",
   "execution_count": null,
   "metadata": {},
   "outputs": [],
   "source": []
  }
 ],
 "metadata": {
  "kernelspec": {
   "display_name": "Python 3",
   "language": "python",
   "name": "python3"
  },
  "language_info": {
   "codemirror_mode": {
    "name": "ipython",
    "version": 3
   },
   "file_extension": ".py",
   "mimetype": "text/x-python",
   "name": "python",
   "nbconvert_exporter": "python",
   "pygments_lexer": "ipython3",
   "version": "3.7.3"
  },
  "pycharm": {
   "stem_cell": {
    "cell_type": "raw",
    "metadata": {
     "collapsed": false
    },
    "source": []
   }
  }
 },
 "nbformat": 4,
 "nbformat_minor": 1
}
