{
 "cells": [
  {
   "cell_type": "markdown",
   "metadata": {
    "collapsed": true,
    "pycharm": {
     "is_executing": false,
     "name": "#%% md\n"
    }
   },
   "source": [
    "Lab 7\n",
    "---\n",
    "Hello All,\n",
    "\n",
    "I am Dhrumil Soni, the CP of the course DSCI 510. Welcome to the lab.\n",
    "\n",
    "Guidelines for the Lab:\n",
    "- You will be given the lab assignment in the start of the lab. You're supposed to complete it by the deadline stated on DEN. Should be usually on Friday Midnight.  \n",
    "\n",
    "- You've to complete the assignments individually. If you are having trouble completing the assignment do let me know, I will clear your doubts and guide you but I'll not write code for you and no one else should :) !!!  \n",
    "\n",
    "- You have to fill in the code to this notebook and upload it to your repository. And simply, submit the link to the repo (which has all the lab submissions inside it). I know the link would be same over the submissions, but it's a simple way to map you on DEN and Github. Also, the jupyter notebook file name has to be in the form '(First name)-(Last name)-lab(Lab Number)'. All characters in lowercase. For example, first lab for me would be 'dhrumil-soni-lab1'  \n",
    "\n",
    "- You are encouraged to look up resources online like python docs and stackoverflow. But, you are encouraged to look up the topics and not the questions themselves  \n",
    "\n",
    "- Your last submission will be counted towards your grade on DEN and do not edit the repository after the deadline  "
   ]
  },
  {
   "cell_type": "markdown",
   "metadata": {},
   "source": [
    "Today's lab is more of a revisit to the topics covered previously. I hope that this lab turns out to be a good practice lab(it's obviously *graded* though) for the midterm exam next week.  "
   ]
  },
  {
   "cell_type": "markdown",
   "metadata": {},
   "source": [
    "Announcement\n",
    "---\n",
    "Due to midterm, **no lab next week**. "
   ]
  },
  {
   "cell_type": "markdown",
   "metadata": {},
   "source": [
    "Apart from this, **We, the \"510\" team wish you all the best for your coming midterm.**"
   ]
  },
  {
   "cell_type": "markdown",
   "metadata": {},
   "source": [
    "Q1. [5 points]\n",
    "---\n",
    "Fill the function below that checks whether the given string ```s``` is palindrome or not.  \n",
    "\n",
    "```A string is palindrome if it stays the same when read from backward.```  \n",
    "    \n",
    "- For example, the strings '12321' or 'level' or 'racecar' are palindrome and the strings 'hello', 'wierd', '123' are not palindrome.  \n",
    "    \n",
    "Input: String  \n",
    "Return Output: Boolean  \n",
    "\n",
    "---\n",
    "Grading Rubric: Binary"
   ]
  },
  {
   "cell_type": "code",
   "execution_count": 2,
   "metadata": {},
   "outputs": [
    {
     "data": {
      "text/plain": [
       "True"
      ]
     },
     "execution_count": 2,
     "metadata": {},
     "output_type": "execute_result"
    }
   ],
   "source": [
    "def is_palindrome(s):\n",
    "    return s==s[::-1]\n",
    "\n",
    "is_palindrome('12321')"
   ]
  },
  {
   "cell_type": "markdown",
   "metadata": {},
   "source": [
    "Q2. [10 points]\n",
    "---\n",
    "You are given a word(i.e., containing >0 characters) string and a character(i.e., containing 1 character) string. When you encounter the first occourence of the character in the word string, you have to swap the string before the character with the string after the character. After the swap, repeat the process for the string word[character_found_location+1:end] (that is from the position(index) where the character is found + 1 till the end of the string). You have to repeat this procedure until you reach the end of the string.  You need to return the string formed after these operations. For example, if word='abc' and character='b', then output is 'cba'. Another example is word='tititi' and character='i' and the output for this is 'tiitit'.  \n",
    "\n",
    "Input: String, String  \n",
    "Output: String  \n",
    "\n",
    "Example 1:  \n",
    "```\n",
    "Input:  \n",
    "word='abc' character='b'  \n",
    "Output:  \n",
    "'cba'  \n",
    "Example 2:  \n",
    "Input:  \n",
    "word='philippines' character='i'  \n",
    "Output:  \n",
    "'philippines'\n",
    "```\n",
    "\n",
    "---\n",
    "Grading Rubric: Binary"
   ]
  },
  {
   "cell_type": "code",
   "execution_count": 3,
   "metadata": {},
   "outputs": [
    {
     "data": {
      "text/plain": [
       "'cba'"
      ]
     },
     "execution_count": 3,
     "metadata": {},
     "output_type": "execute_result"
    }
   ],
   "source": [
    "def reverse_all(word, character):\n",
    "    for i in range(len(word)):\n",
    "        if word[i] == character:\n",
    "            word = word[i+1:]+word[i]+word[:i]\n",
    "    return word\n",
    "        \n",
    "        \n",
    "##tititi tiitit\n",
    "reverse_all('abc','b')"
   ]
  },
  {
   "cell_type": "markdown",
   "metadata": {},
   "source": [
    "Q3. [10 points]\n",
    "---\n",
    "Create a lecture class. Please create an object definition which fits the following the guidelines.  \n",
    "\n",
    "Every lecture object must be instantiated(params to the constructor) with the following String variables:\n",
    "1. Professor Name\n",
    "2. Start Time\n",
    "3. End Time\n",
    "4. Id\n",
    "\n",
    "Hence, lecture class' object could be created like ```my_lecture = lecture('Jeremy', '1300', '1500', '1')```  \n",
    "\n",
    "Every lecture object must have the following functions:\n",
    "1. Add Student to the class \n",
    "    * Definition - add_student(student_name) Types - [string] No Return \n",
    "2. Remove Student from the class  \n",
    "    * Definition - remove_student(student_name) Types - [string] No Return \n",
    "3. Add a rating to the class \n",
    "    * Definition - add_rating(rating) Types - [float] No Return \n",
    "4. What is the average rating of the class  \n",
    "    * Definition - avg_rating() (*if nothing in the list just return 0*) Return rating \n",
    "5. Setter function for the boolean variable is_there_hw, which reverses the current boolean value\n",
    "    * So if is_there_hw was False, and you call this function it sets it to True and vice versa\n",
    "    * Definition - set_hw() No Return \n",
    "6. Getter function for is_there_hw\n",
    "    * simply returns the state of the is_there_hw variable\n",
    "    * Definition - get_hw() Return boolean  \n",
    "7. Get students list\n",
    "    * simply returns the list of students in the class\n",
    "    * Definition - get_students() Return list  \n",
    "\n",
    "\n",
    "So there are 8 functions you have to create, the 7 above and the one `__init__` function.   \n",
    "\n",
    "---\n",
    "Grading Rubric: Each correct function will give you 1 point, except for avg_rating, which will give you 3 points if correct."
   ]
  },
  {
   "cell_type": "code",
   "execution_count": 4,
   "metadata": {},
   "outputs": [],
   "source": [
    "class lecture:\n",
    "    def __init__(self,professor_name,start_time,end_time,Id):\n",
    "        self.cart = list()\n",
    "        self.rating = list()\n",
    "        self.professor_name = professor_name\n",
    "        self.start_time = start_time\n",
    "        self.end_time = end_time\n",
    "        self.Id = Id\n",
    "        self.is_there_hw = True\n",
    "    def add_student(self,student_name):\n",
    "        self.cart.append(student_name)\n",
    "        \n",
    "    def remove_student(self):\n",
    "        if student_name in self.cart:\n",
    "            self.cart.remove(student_name)\n",
    "        \n",
    "    def add_rating(self,rating):\n",
    "        self.rating.append(float(rating))\n",
    "        \n",
    "    def avg_rating(self):\n",
    "        if len(self.rating)>0:\n",
    "            return sum(self.rating)/len(self.rating)\n",
    "        else:\n",
    "            return 0\n",
    "        \n",
    "    def set_hw(self):\n",
    "        if self.is_there_hw == True:\n",
    "            self.is_there_hw = False\n",
    "        else:\n",
    "            self.is_there_hw = True\n",
    "            \n",
    "    def get_hw(self):\n",
    "        return self.is_there_hw\n",
    "    \n",
    "    def get_students(self):\n",
    "        return self.cart\n",
    "        \n",
    "        \n",
    "            \n",
    "        \n",
    "        \n",
    "    \n",
    "        \n",
    "        \n",
    "        \n",
    "    \n",
    "    "
   ]
  },
  {
   "cell_type": "markdown",
   "metadata": {},
   "source": [
    "Q4. [5 points]\n",
    "---\n",
    "Given a text string, return the top k words sorted by frequency. If there are multiple options to include, add the words that are lexicographically smaller.  \n",
    "\n",
    "Note:  \n",
    "    - Strings in different letter case are considered different. For example, 'hey' and 'Hey' are different.   \n",
    "    - No need to remove special characters.  \n",
    "\n",
    "Input: string, integer  \n",
    "Return Output: List of strings\n",
    "\n",
    "Example 1:  \n",
    "Input:  \n",
    "text = 'this string would give you this output', k = 1  \n",
    "Output:  \n",
    "['this']  \n",
    "Example 2:  \n",
    "Input:  \n",
    "text = 'that is fun', k = 2  \n",
    "Output:  \n",
    "['fun', 'is']  \n",
    "\n",
    "---\n",
    "Grading Rubric: 5 points if lexicographically smaller constraint is not satisfied. 10 points if everything is correct. "
   ]
  },
  {
   "cell_type": "code",
   "execution_count": 5,
   "metadata": {},
   "outputs": [],
   "source": [
    "def top_k(text, k):\n",
    "    dictt = {}\n",
    "    split_k = text.split(' ')\n",
    "    for word in split_k:\n",
    "        if word in dictt:\n",
    "            dictt[word]+=1\n",
    "        else:\n",
    "            dictt[word]=1\n",
    "            \n",
    "    sorted_dictt = sorted(dictt.items(),key=lambda x: (-x[1],x[0]))\n",
    "    \n",
    "    final_list = []\n",
    "    for i in range(k):\n",
    "        final_list.append(sorted_dictt[i][0])\n",
    "        \n",
    "    print(final_list)\n",
    "            \n",
    "    \n",
    "            \n",
    "    \n",
    "        "
   ]
  },
  {
   "cell_type": "code",
   "execution_count": 6,
   "metadata": {},
   "outputs": [
    {
     "name": "stdout",
     "output_type": "stream",
     "text": [
      "['this']\n"
     ]
    }
   ],
   "source": [
    "top_k('this string would give you this output',1)"
   ]
  },
  {
   "cell_type": "markdown",
   "metadata": {},
   "source": [
    "Fun Easy Bonus Question[5 points]\n",
    "---\n",
    "You are playing the following Game with your friend:\n",
    "\n",
    "- Initially, there is a heap of stones on the table.  \n",
    "- You and your friend will alternate taking turns, and you go first.  \n",
    "- On each turn, the person whose turn it is will remove 1 to 3 stones from the heap.  \n",
    "- The one who removes the last stone is the winner.  \n",
    "- Given n, the number of stones in the heap, return True if you can win the game assuming both you and your friend play optimally, otherwise return False.  \n",
    "\n",
    "Example:  \n",
    "Input: n = 4  \n",
    "Return Output: False  \n",
    "Explanation: These are the possible outcomes:  \n",
    "1. You remove 1 stone. Your friend removes 3 stones, including the last stone. Your friend wins.  \n",
    "2. You remove 2 stones. Your friend removes 2 stones, including the last stone. Your friend wins.  \n",
    "3. You remove 3 stones. Your friend removes the last stone. Your friend wins.  \n",
    "\n",
    "In all outcomes, your friend wins.  \n",
    "\n",
    "---\n",
    "Grading Rubric: Binary"
   ]
  },
  {
   "cell_type": "code",
   "execution_count": 9,
   "metadata": {},
   "outputs": [
    {
     "data": {
      "text/plain": [
       "False"
      ]
     },
     "execution_count": 9,
     "metadata": {},
     "output_type": "execute_result"
    }
   ],
   "source": [
    "def is_winnable(n):\n",
    "    if n%4 != 0:\n",
    "        return True\n",
    "    else:\n",
    "        return False\n",
    "    \n",
    "is_winnable(4)"
   ]
  },
  {
   "cell_type": "markdown",
   "metadata": {},
   "source": [
    "Finished?  \n",
    "Are you all aware of the new python version release??  \n",
    "If not, here are the *new* features: https://docs.python.org/3/whatsnew/3.9.html  \n",
    "\n",
    "We will probably not use any of the new features released, but, it's *good to know* that these new features are available for use.  "
   ]
  }
 ],
 "metadata": {
  "kernelspec": {
   "display_name": "Python 3",
   "language": "python",
   "name": "python3"
  },
  "language_info": {
   "codemirror_mode": {
    "name": "ipython",
    "version": 3
   },
   "file_extension": ".py",
   "mimetype": "text/x-python",
   "name": "python",
   "nbconvert_exporter": "python",
   "pygments_lexer": "ipython3",
   "version": "3.7.3"
  },
  "pycharm": {
   "stem_cell": {
    "cell_type": "raw",
    "metadata": {
     "collapsed": false
    },
    "source": []
   }
  }
 },
 "nbformat": 4,
 "nbformat_minor": 1
}
